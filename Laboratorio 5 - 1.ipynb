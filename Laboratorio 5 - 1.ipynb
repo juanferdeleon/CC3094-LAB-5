{
 "cells": [
  {
   "cell_type": "markdown",
   "id": "1721daef",
   "metadata": {},
   "source": [
    "# Laboratorio 5\n",
    "## Parte 1\n",
    "---"
   ]
  },
  {
   "cell_type": "code",
   "execution_count": 75,
   "id": "70f11af3",
   "metadata": {},
   "outputs": [],
   "source": [
    "# Librerias\n",
    "from scapy.all import *\n",
    "import pandas as pd \n",
    "import binascii\n",
    "import seaborn as sns"
   ]
  },
  {
   "cell_type": "markdown",
   "id": "9391ecee",
   "metadata": {},
   "source": [
    "#### 1. Capture 100 paquetes con la herramienta scapy, imprima el tipo de datos, la longitud y el contenido del pcap"
   ]
  },
  {
   "cell_type": "code",
   "execution_count": 54,
   "id": "f2f1216e",
   "metadata": {},
   "outputs": [],
   "source": [
    "own_packets_pcap = sniff(count = 100)"
   ]
  },
  {
   "cell_type": "markdown",
   "id": "7dbc3c11",
   "metadata": {},
   "source": [
    "#### 2. Añada al pcap de 100 paquetes el archivo analisis_paquetes.pcap"
   ]
  },
  {
   "cell_type": "code",
   "execution_count": 55,
   "id": "4e819fdf",
   "metadata": {},
   "outputs": [],
   "source": [
    "analisis_paquetes = rdpcap('./analisis_paquetes.pcap')\n",
    "\n",
    "analisis_paquetes = analisis_paquetes + own_packets_pcap"
   ]
  },
  {
   "cell_type": "markdown",
   "id": "d68b1c46",
   "metadata": {},
   "source": [
    "#### 3. Convierta el pcap a un DataFrame"
   ]
  },
  {
   "cell_type": "code",
   "execution_count": 67,
   "id": "2e3dd59f",
   "metadata": {},
   "outputs": [],
   "source": [
    "fields = {\n",
    "    \"IP\": tuple(field.name for field in IP().fields_desc),\n",
    "    \"TCP\": tuple(field.name for field in TCP().fields_desc),\n",
    "    \"UDP\": tuple(field.name for field in UDP().fields_desc)\n",
    "}\n",
    "\n",
    "df = pd.DataFrame({field: [getattr(pkt[layer], field) if layer in pkt else pd.NA\n",
    "                           for pkt in analisis_paquetes]\n",
    "                   for layer, field_list in fields.items()\n",
    "                   for field in field_list})"
   ]
  },
  {
   "cell_type": "code",
   "execution_count": 68,
   "id": "7ef6a039",
   "metadata": {},
   "outputs": [
    {
     "data": {
      "text/html": [
       "<div>\n",
       "<style scoped>\n",
       "    .dataframe tbody tr th:only-of-type {\n",
       "        vertical-align: middle;\n",
       "    }\n",
       "\n",
       "    .dataframe tbody tr th {\n",
       "        vertical-align: top;\n",
       "    }\n",
       "\n",
       "    .dataframe thead th {\n",
       "        text-align: right;\n",
       "    }\n",
       "</style>\n",
       "<table border=\"1\" class=\"dataframe\">\n",
       "  <thead>\n",
       "    <tr style=\"text-align: right;\">\n",
       "      <th></th>\n",
       "      <th>version</th>\n",
       "      <th>ihl</th>\n",
       "      <th>tos</th>\n",
       "      <th>len</th>\n",
       "      <th>id</th>\n",
       "      <th>flags</th>\n",
       "      <th>frag</th>\n",
       "      <th>ttl</th>\n",
       "      <th>proto</th>\n",
       "      <th>chksum</th>\n",
       "      <th>...</th>\n",
       "      <th>dataofs</th>\n",
       "      <th>reserved</th>\n",
       "      <th>flags</th>\n",
       "      <th>window</th>\n",
       "      <th>chksum</th>\n",
       "      <th>urgptr</th>\n",
       "      <th>options</th>\n",
       "      <th>payload</th>\n",
       "      <th>payload_raw</th>\n",
       "      <th>payload_hex</th>\n",
       "    </tr>\n",
       "  </thead>\n",
       "  <tbody>\n",
       "    <tr>\n",
       "      <th>0</th>\n",
       "      <td>4</td>\n",
       "      <td>5</td>\n",
       "      <td>0</td>\n",
       "      <td>961</td>\n",
       "      <td>1</td>\n",
       "      <td></td>\n",
       "      <td>0</td>\n",
       "      <td>64</td>\n",
       "      <td>17</td>\n",
       "      <td>21222</td>\n",
       "      <td>...</td>\n",
       "      <td>None</td>\n",
       "      <td>None</td>\n",
       "      <td>None</td>\n",
       "      <td>None</td>\n",
       "      <td>62990</td>\n",
       "      <td>None</td>\n",
       "      <td>None</td>\n",
       "      <td>933</td>\n",
       "      <td>b'\\x00\\x0c\\x01\\x00\\x00\\x01\\x00\\x00\\x00\\x00\\x00...</td>\n",
       "      <td>b'000c0100000100000000000006676f6f676c6503636f...</td>\n",
       "    </tr>\n",
       "    <tr>\n",
       "      <th>0</th>\n",
       "      <td>4</td>\n",
       "      <td>5</td>\n",
       "      <td>32</td>\n",
       "      <td>84</td>\n",
       "      <td>58919</td>\n",
       "      <td></td>\n",
       "      <td>0</td>\n",
       "      <td>122</td>\n",
       "      <td>17</td>\n",
       "      <td>13836</td>\n",
       "      <td>...</td>\n",
       "      <td>None</td>\n",
       "      <td>None</td>\n",
       "      <td>None</td>\n",
       "      <td>None</td>\n",
       "      <td>65061</td>\n",
       "      <td>None</td>\n",
       "      <td>None</td>\n",
       "      <td>56</td>\n",
       "      <td>b'\\x00\\x0c\\x81\\x80\\x00\\x01\\x00\\x01\\x00\\x00\\x00...</td>\n",
       "      <td>b'000c8180000100010000000006676f6f676c6503636f...</td>\n",
       "    </tr>\n",
       "    <tr>\n",
       "      <th>0</th>\n",
       "      <td>4</td>\n",
       "      <td>5</td>\n",
       "      <td>0</td>\n",
       "      <td>975</td>\n",
       "      <td>1</td>\n",
       "      <td></td>\n",
       "      <td>0</td>\n",
       "      <td>64</td>\n",
       "      <td>17</td>\n",
       "      <td>21208</td>\n",
       "      <td>...</td>\n",
       "      <td>None</td>\n",
       "      <td>None</td>\n",
       "      <td>None</td>\n",
       "      <td>None</td>\n",
       "      <td>36378</td>\n",
       "      <td>None</td>\n",
       "      <td>None</td>\n",
       "      <td>947</td>\n",
       "      <td>b'\\x00\\x0c\\x01\\x00\\x00\\x01\\x00\\x00\\x00\\x00\\x00...</td>\n",
       "      <td>b'000c0100000100000000000006676f6f676c6503636f...</td>\n",
       "    </tr>\n",
       "    <tr>\n",
       "      <th>0</th>\n",
       "      <td>4</td>\n",
       "      <td>5</td>\n",
       "      <td>32</td>\n",
       "      <td>84</td>\n",
       "      <td>59493</td>\n",
       "      <td></td>\n",
       "      <td>0</td>\n",
       "      <td>122</td>\n",
       "      <td>17</td>\n",
       "      <td>13262</td>\n",
       "      <td>...</td>\n",
       "      <td>None</td>\n",
       "      <td>None</td>\n",
       "      <td>None</td>\n",
       "      <td>None</td>\n",
       "      <td>65063</td>\n",
       "      <td>None</td>\n",
       "      <td>None</td>\n",
       "      <td>56</td>\n",
       "      <td>b'\\x00\\x0c\\x81\\x80\\x00\\x01\\x00\\x01\\x00\\x00\\x00...</td>\n",
       "      <td>b'000c8180000100010000000006676f6f676c6503636f...</td>\n",
       "    </tr>\n",
       "    <tr>\n",
       "      <th>0</th>\n",
       "      <td>4</td>\n",
       "      <td>5</td>\n",
       "      <td>0</td>\n",
       "      <td>1012</td>\n",
       "      <td>1</td>\n",
       "      <td></td>\n",
       "      <td>0</td>\n",
       "      <td>64</td>\n",
       "      <td>17</td>\n",
       "      <td>21171</td>\n",
       "      <td>...</td>\n",
       "      <td>None</td>\n",
       "      <td>None</td>\n",
       "      <td>None</td>\n",
       "      <td>None</td>\n",
       "      <td>63846</td>\n",
       "      <td>None</td>\n",
       "      <td>None</td>\n",
       "      <td>984</td>\n",
       "      <td>b'\\x00\\x0c\\x01\\x00\\x00\\x01\\x00\\x00\\x00\\x00\\x00...</td>\n",
       "      <td>b'000c0100000100000000000006676f6f676c6503636f...</td>\n",
       "    </tr>\n",
       "  </tbody>\n",
       "</table>\n",
       "<p>5 rows × 28 columns</p>\n",
       "</div>"
      ],
      "text/plain": [
       "  version ihl tos   len     id flags frag  ttl proto chksum  ... dataofs  \\\n",
       "0       4   5   0   961      1          0   64    17  21222  ...    None   \n",
       "0       4   5  32    84  58919          0  122    17  13836  ...    None   \n",
       "0       4   5   0   975      1          0   64    17  21208  ...    None   \n",
       "0       4   5  32    84  59493          0  122    17  13262  ...    None   \n",
       "0       4   5   0  1012      1          0   64    17  21171  ...    None   \n",
       "\n",
       "  reserved flags window chksum urgptr options payload  \\\n",
       "0     None  None   None  62990   None    None     933   \n",
       "0     None  None   None  65061   None    None      56   \n",
       "0     None  None   None  36378   None    None     947   \n",
       "0     None  None   None  65063   None    None      56   \n",
       "0     None  None   None  63846   None    None     984   \n",
       "\n",
       "                                         payload_raw  \\\n",
       "0  b'\\x00\\x0c\\x01\\x00\\x00\\x01\\x00\\x00\\x00\\x00\\x00...   \n",
       "0  b'\\x00\\x0c\\x81\\x80\\x00\\x01\\x00\\x01\\x00\\x00\\x00...   \n",
       "0  b'\\x00\\x0c\\x01\\x00\\x00\\x01\\x00\\x00\\x00\\x00\\x00...   \n",
       "0  b'\\x00\\x0c\\x81\\x80\\x00\\x01\\x00\\x01\\x00\\x00\\x00...   \n",
       "0  b'\\x00\\x0c\\x01\\x00\\x00\\x01\\x00\\x00\\x00\\x00\\x00...   \n",
       "\n",
       "                                         payload_hex  \n",
       "0  b'000c0100000100000000000006676f6f676c6503636f...  \n",
       "0  b'000c8180000100010000000006676f6f676c6503636f...  \n",
       "0  b'000c0100000100000000000006676f6f676c6503636f...  \n",
       "0  b'000c8180000100010000000006676f6f676c6503636f...  \n",
       "0  b'000c0100000100000000000006676f6f676c6503636f...  \n",
       "\n",
       "[5 rows x 28 columns]"
      ]
     },
     "execution_count": 68,
     "metadata": {},
     "output_type": "execute_result"
    }
   ],
   "source": [
    "df.head()"
   ]
  },
  {
   "cell_type": "markdown",
   "id": "6e7ab490",
   "metadata": {},
   "source": [
    "#### 4. Muestre los valores de las columnas: Src Addres, Dst Address, Src Port y Dst Port"
   ]
  },
  {
   "cell_type": "code",
   "execution_count": 69,
   "id": "74f816ff",
   "metadata": {},
   "outputs": [
    {
     "data": {
      "text/html": [
       "<div>\n",
       "<style scoped>\n",
       "    .dataframe tbody tr th:only-of-type {\n",
       "        vertical-align: middle;\n",
       "    }\n",
       "\n",
       "    .dataframe tbody tr th {\n",
       "        vertical-align: top;\n",
       "    }\n",
       "\n",
       "    .dataframe thead th {\n",
       "        text-align: right;\n",
       "    }\n",
       "</style>\n",
       "<table border=\"1\" class=\"dataframe\">\n",
       "  <thead>\n",
       "    <tr style=\"text-align: right;\">\n",
       "      <th></th>\n",
       "      <th>src</th>\n",
       "      <th>dst</th>\n",
       "      <th>sport</th>\n",
       "      <th>dport</th>\n",
       "    </tr>\n",
       "  </thead>\n",
       "  <tbody>\n",
       "    <tr>\n",
       "      <th>0</th>\n",
       "      <td>10.1.10.53</td>\n",
       "      <td>84.54.22.33</td>\n",
       "      <td>53</td>\n",
       "      <td>53</td>\n",
       "    </tr>\n",
       "    <tr>\n",
       "      <th>0</th>\n",
       "      <td>84.54.22.33</td>\n",
       "      <td>10.1.10.53</td>\n",
       "      <td>53</td>\n",
       "      <td>53</td>\n",
       "    </tr>\n",
       "    <tr>\n",
       "      <th>0</th>\n",
       "      <td>10.1.10.53</td>\n",
       "      <td>84.54.22.33</td>\n",
       "      <td>53</td>\n",
       "      <td>53</td>\n",
       "    </tr>\n",
       "    <tr>\n",
       "      <th>0</th>\n",
       "      <td>84.54.22.33</td>\n",
       "      <td>10.1.10.53</td>\n",
       "      <td>53</td>\n",
       "      <td>53</td>\n",
       "    </tr>\n",
       "    <tr>\n",
       "      <th>0</th>\n",
       "      <td>10.1.10.53</td>\n",
       "      <td>84.54.22.33</td>\n",
       "      <td>53</td>\n",
       "      <td>53</td>\n",
       "    </tr>\n",
       "    <tr>\n",
       "      <th>...</th>\n",
       "      <td>...</td>\n",
       "      <td>...</td>\n",
       "      <td>...</td>\n",
       "      <td>...</td>\n",
       "    </tr>\n",
       "    <tr>\n",
       "      <th>0</th>\n",
       "      <td>127.0.0.1</td>\n",
       "      <td>127.0.0.1</td>\n",
       "      <td>62740</td>\n",
       "      <td>62741</td>\n",
       "    </tr>\n",
       "    <tr>\n",
       "      <th>0</th>\n",
       "      <td>127.0.0.1</td>\n",
       "      <td>127.0.0.1</td>\n",
       "      <td>62741</td>\n",
       "      <td>62740</td>\n",
       "    </tr>\n",
       "    <tr>\n",
       "      <th>0</th>\n",
       "      <td>127.0.0.1</td>\n",
       "      <td>127.0.0.1</td>\n",
       "      <td>62740</td>\n",
       "      <td>62741</td>\n",
       "    </tr>\n",
       "    <tr>\n",
       "      <th>0</th>\n",
       "      <td>127.0.0.1</td>\n",
       "      <td>127.0.0.1</td>\n",
       "      <td>62741</td>\n",
       "      <td>62740</td>\n",
       "    </tr>\n",
       "    <tr>\n",
       "      <th>0</th>\n",
       "      <td>127.0.0.1</td>\n",
       "      <td>127.0.0.1</td>\n",
       "      <td>62740</td>\n",
       "      <td>62741</td>\n",
       "    </tr>\n",
       "  </tbody>\n",
       "</table>\n",
       "<p>162 rows × 4 columns</p>\n",
       "</div>"
      ],
      "text/plain": [
       "            src          dst  sport  dport\n",
       "0    10.1.10.53  84.54.22.33     53     53\n",
       "0   84.54.22.33   10.1.10.53     53     53\n",
       "0    10.1.10.53  84.54.22.33     53     53\n",
       "0   84.54.22.33   10.1.10.53     53     53\n",
       "0    10.1.10.53  84.54.22.33     53     53\n",
       "..          ...          ...    ...    ...\n",
       "0     127.0.0.1    127.0.0.1  62740  62741\n",
       "0     127.0.0.1    127.0.0.1  62741  62740\n",
       "0     127.0.0.1    127.0.0.1  62740  62741\n",
       "0     127.0.0.1    127.0.0.1  62741  62740\n",
       "0     127.0.0.1    127.0.0.1  62740  62741\n",
       "\n",
       "[162 rows x 4 columns]"
      ]
     },
     "execution_count": 69,
     "metadata": {},
     "output_type": "execute_result"
    }
   ],
   "source": [
    "df[['src','dst','sport','dport']]"
   ]
  },
  {
   "cell_type": "markdown",
   "id": "97d4fadd",
   "metadata": {},
   "source": [
    "#### 5. Estadísticas\n",
    "\n",
    "   ##### a. Muestre cual es la IP origen que más aparece\n",
    "    "
   ]
  },
  {
   "cell_type": "code",
   "execution_count": 61,
   "id": "864b49ac",
   "metadata": {},
   "outputs": [
    {
     "data": {
      "text/plain": [
       "'127.0.0.1'"
      ]
     },
     "execution_count": 61,
     "metadata": {},
     "output_type": "execute_result"
    }
   ],
   "source": [
    "n = 1\n",
    "in_a = df['src'].value_counts()[:n].index.tolist()[0]\n",
    "in_a"
   ]
  },
  {
   "cell_type": "markdown",
   "id": "b872bc5f",
   "metadata": {},
   "source": [
    "   ##### b. Muestre cual es la IP destino que más aparece"
   ]
  },
  {
   "cell_type": "code",
   "execution_count": 62,
   "id": "02754464",
   "metadata": {},
   "outputs": [
    {
     "data": {
      "text/plain": [
       "'127.0.0.1'"
      ]
     },
     "execution_count": 62,
     "metadata": {},
     "output_type": "execute_result"
    }
   ],
   "source": [
    "n = 1\n",
    "in_b = df['dst'].value_counts()[:n].index.tolist()[0]\n",
    "in_b"
   ]
  },
  {
   "cell_type": "markdown",
   "id": "d4fab1a3",
   "metadata": {},
   "source": [
    "   ##### c. ¿A qué IPs se comunica la IP del inciso a?"
   ]
  },
  {
   "cell_type": "code",
   "execution_count": 63,
   "id": "c3572cad",
   "metadata": {},
   "outputs": [
    {
     "data": {
      "text/plain": [
       "array(['127.0.0.1'], dtype=object)"
      ]
     },
     "execution_count": 63,
     "metadata": {},
     "output_type": "execute_result"
    }
   ],
   "source": [
    "df[df['src'] == in_a]['dst'].unique()"
   ]
  },
  {
   "cell_type": "markdown",
   "id": "e85b8c78",
   "metadata": {},
   "source": [
    "   ##### d. ¿A qué puertos destino se comunica la IP del inciso a?"
   ]
  },
  {
   "cell_type": "code",
   "execution_count": 74,
   "id": "16b7c275",
   "metadata": {},
   "outputs": [
    {
     "data": {
      "text/plain": [
       "array([62889, 8888, 50243, 50244, 62740, 62741, 50930, 50931],\n",
       "      dtype=object)"
      ]
     },
     "execution_count": 74,
     "metadata": {},
     "output_type": "execute_result"
    }
   ],
   "source": [
    "df[df['src'] == in_a]['dport'].unique()"
   ]
  },
  {
   "cell_type": "markdown",
   "id": "d9c23b70",
   "metadata": {},
   "source": [
    "   ##### e. ¿A qué puertos origen se comunica la IP del inciso a?"
   ]
  },
  {
   "cell_type": "code",
   "execution_count": 65,
   "id": "80d9636c",
   "metadata": {},
   "outputs": [
    {
     "data": {
      "text/plain": [
       "array([8888, 62889, 50244, 50243, 62741, 62740, 50931, 50930],\n",
       "      dtype=object)"
      ]
     },
     "execution_count": 65,
     "metadata": {},
     "output_type": "execute_result"
    }
   ],
   "source": [
    "df[df['src'] == in_a]['sport'].unique()"
   ]
  },
  {
   "cell_type": "markdown",
   "id": "7a4b5a31",
   "metadata": {},
   "source": [
    "   ##### f. ¿Para que se utiliza el puerto que más aparece en el inciso d y e?\n",
    "\n",
    "    El puerto usa el Protocolo de Control de Transmisión. TCP es uno de los protocolos principales en redes TCP/IP. TCP puerto garantiza la entrega de paquetes de datos en la misma orden, en que fueron mandados. La comunicación garantizada por el puerto TCP es la diferencia mayor entre TCP y UDP."
   ]
  },
  {
   "cell_type": "markdown",
   "id": "211273c5",
   "metadata": {},
   "source": [
    "#### 6. Gráficas\n",
    "  \n",
    "   ##### a. Muestre una gráfica 2D, en el eje Y las IPs origen, y en el eje X la suma de los payloads enviados de dichas direcciones.\n"
   ]
  },
  {
   "cell_type": "code",
   "execution_count": 76,
   "id": "50bdd034",
   "metadata": {},
   "outputs": [
    {
     "data": {
      "text/plain": [
       "<AxesSubplot:xlabel='count', ylabel='src'>"
      ]
     },
     "execution_count": 76,
     "metadata": {},
     "output_type": "execute_result"
    },
    {
     "data": {
      "image/png": "[encoded data removed]",
      "text/plain": [
       "<Figure size 432x288 with 1 Axes>"
      ]
     },
     "metadata": {
      "needs_background": "light"
     },
     "output_type": "display_data"
    }
   ],
   "source": [
    "sns.countplot(\n",
    "    data = df,\n",
    "    y = 'src',\n",
    ")"
   ]
  },
  {
   "cell_type": "markdown",
   "id": "06285a83",
   "metadata": {},
   "source": [
    "##### b. Muestre una gráfica 2D, en el eje Y las IPs destino, y en el eje X la suma de los payloads recibidos en dichas direcciones."
   ]
  },
  {
   "cell_type": "code",
   "execution_count": 127,
   "id": "4d50cf90",
   "metadata": {},
   "outputs": [
    {
     "data": {
      "text/plain": [
       "<AxesSubplot:xlabel='payload', ylabel='dst'>"
      ]
     },
     "execution_count": 127,
     "metadata": {},
     "output_type": "execute_result"
    },
    {
     "data": {
      "image/png": "[encoded data removed]",
      "text/plain": [
       "<Figure size 432x288 with 1 Axes>"
      ]
     },
     "metadata": {
      "needs_background": "light"
     },
     "output_type": "display_data"
    }
   ],
   "source": [
    "df_b = df.groupby('dst').count()['payload'].to_frame()\n",
    "df_b.reset_index(inplace=True)\n",
    "\n",
    "sns.barplot(x=\"payload\", y=\"dst\", data=df_b)"
   ]
  },
  {
   "cell_type": "markdown",
   "id": "b5b40912",
   "metadata": {},
   "source": [
    "\n",
    "##### c. Muestre una gráfica 2D, en el eje Y los puertos origen, y en el eje X la suma de los payloads enviados de dichos puertos.\n"
   ]
  },
  {
   "cell_type": "code",
   "execution_count": 130,
   "id": "0dec5e01",
   "metadata": {},
   "outputs": [
    {
     "data": {
      "text/plain": [
       "<AxesSubplot:xlabel='count', ylabel='sport'>"
      ]
     },
     "execution_count": 130,
     "metadata": {},
     "output_type": "execute_result"
    },
    {
     "data": {
      "image/png": "[encoded data removed]",
      "text/plain": [
       "<Figure size 432x288 with 1 Axes>"
      ]
     },
     "metadata": {
      "needs_background": "light"
     },
     "output_type": "display_data"
    }
   ],
   "source": [
    "\n",
    "sns.countplot(\n",
    "    data = df,\n",
    "    y = 'sport',\n",
    ")\n"
   ]
  },
  {
   "cell_type": "markdown",
   "id": "f5dd877a",
   "metadata": {},
   "source": [
    "\n",
    "##### d. Muestre una gráfica 2D, en el eje Y los puertos destino, y en el eje X la suma de los payloads recibidos en dichos puertos.\n"
   ]
  },
  {
   "cell_type": "code",
   "execution_count": 135,
   "id": "c7cfb0d6",
   "metadata": {},
   "outputs": [
    {
     "data": {
      "text/plain": [
       "<AxesSubplot:xlabel='payload', ylabel='dport'>"
      ]
     },
     "execution_count": 135,
     "metadata": {},
     "output_type": "execute_result"
    },
    {
     "data": {
      "image/png": "[encoded data removed]",
      "text/plain": [
       "<Figure size 432x288 with 1 Axes>"
      ]
     },
     "metadata": {
      "needs_background": "light"
     },
     "output_type": "display_data"
    }
   ],
   "source": [
    "df_d = df.groupby('dport').count()['payload'].to_frame()\n",
    "df_d.reset_index(inplace=True)\n",
    "\n",
    "sns.barplot(x=\"payload\", y=\"dport\", data=df_d)"
   ]
  },
  {
   "cell_type": "markdown",
   "id": "0c743abb",
   "metadata": {},
   "source": [
    "#### Investigación del payload\n",
    "\n",
    "##### a. Cree un nuevo DF que incluya únicamente la conversación de la dirección IP origen más frecuente\n"
   ]
  },
  {
   "cell_type": "code",
   "execution_count": 139,
   "id": "969a4d2c",
   "metadata": {},
   "outputs": [
    {
     "data": {
      "text/html": [
       "<div>\n",
       "<style scoped>\n",
       "    .dataframe tbody tr th:only-of-type {\n",
       "        vertical-align: middle;\n",
       "    }\n",
       "\n",
       "    .dataframe tbody tr th {\n",
       "        vertical-align: top;\n",
       "    }\n",
       "\n",
       "    .dataframe thead th {\n",
       "        text-align: right;\n",
       "    }\n",
       "</style>\n",
       "<table border=\"1\" class=\"dataframe\">\n",
       "  <thead>\n",
       "    <tr style=\"text-align: right;\">\n",
       "      <th></th>\n",
       "      <th>version</th>\n",
       "      <th>ihl</th>\n",
       "      <th>tos</th>\n",
       "      <th>len</th>\n",
       "      <th>id</th>\n",
       "      <th>flags</th>\n",
       "      <th>frag</th>\n",
       "      <th>ttl</th>\n",
       "      <th>proto</th>\n",
       "      <th>chksum</th>\n",
       "      <th>...</th>\n",
       "      <th>dataofs</th>\n",
       "      <th>reserved</th>\n",
       "      <th>flags</th>\n",
       "      <th>window</th>\n",
       "      <th>chksum</th>\n",
       "      <th>urgptr</th>\n",
       "      <th>options</th>\n",
       "      <th>payload</th>\n",
       "      <th>payload_raw</th>\n",
       "      <th>payload_hex</th>\n",
       "    </tr>\n",
       "  </thead>\n",
       "  <tbody>\n",
       "    <tr>\n",
       "      <th>0</th>\n",
       "      <td>4</td>\n",
       "      <td>5</td>\n",
       "      <td>0</td>\n",
       "      <td>656</td>\n",
       "      <td>21187</td>\n",
       "      <td>DF</td>\n",
       "      <td>0</td>\n",
       "      <td>128</td>\n",
       "      <td>6</td>\n",
       "      <td>0</td>\n",
       "      <td>...</td>\n",
       "      <td>5</td>\n",
       "      <td>0</td>\n",
       "      <td>PA</td>\n",
       "      <td>8308</td>\n",
       "      <td>43888</td>\n",
       "      <td>0</td>\n",
       "      <td>0</td>\n",
       "      <td>616</td>\n",
       "      <td>b'\\x81~\\x02d{\"header\": {\"msg_id\": \"2ac8fb38-7a...</td>\n",
       "      <td>b'817e02647b22686561646572223a207b226d73675f69...</td>\n",
       "    </tr>\n",
       "    <tr>\n",
       "      <th>0</th>\n",
       "      <td>4</td>\n",
       "      <td>5</td>\n",
       "      <td>0</td>\n",
       "      <td>40</td>\n",
       "      <td>21188</td>\n",
       "      <td>DF</td>\n",
       "      <td>0</td>\n",
       "      <td>128</td>\n",
       "      <td>6</td>\n",
       "      <td>0</td>\n",
       "      <td>...</td>\n",
       "      <td>5</td>\n",
       "      <td>0</td>\n",
       "      <td>A</td>\n",
       "      <td>8244</td>\n",
       "      <td>44183</td>\n",
       "      <td>0</td>\n",
       "      <td>None</td>\n",
       "      <td>0</td>\n",
       "      <td>b''</td>\n",
       "      <td>b''</td>\n",
       "    </tr>\n",
       "    <tr>\n",
       "      <th>0</th>\n",
       "      <td>4</td>\n",
       "      <td>5</td>\n",
       "      <td>0</td>\n",
       "      <td>41</td>\n",
       "      <td>21189</td>\n",
       "      <td>DF</td>\n",
       "      <td>0</td>\n",
       "      <td>128</td>\n",
       "      <td>6</td>\n",
       "      <td>0</td>\n",
       "      <td>...</td>\n",
       "      <td>5</td>\n",
       "      <td>0</td>\n",
       "      <td>PA</td>\n",
       "      <td>65535</td>\n",
       "      <td>6891</td>\n",
       "      <td>0</td>\n",
       "      <td>0</td>\n",
       "      <td>1</td>\n",
       "      <td>b'M'</td>\n",
       "      <td>b'4d'</td>\n",
       "    </tr>\n",
       "    <tr>\n",
       "      <th>0</th>\n",
       "      <td>4</td>\n",
       "      <td>5</td>\n",
       "      <td>0</td>\n",
       "      <td>40</td>\n",
       "      <td>21190</td>\n",
       "      <td>DF</td>\n",
       "      <td>0</td>\n",
       "      <td>128</td>\n",
       "      <td>6</td>\n",
       "      <td>0</td>\n",
       "      <td>...</td>\n",
       "      <td>5</td>\n",
       "      <td>0</td>\n",
       "      <td>A</td>\n",
       "      <td>47481</td>\n",
       "      <td>44665</td>\n",
       "      <td>0</td>\n",
       "      <td>None</td>\n",
       "      <td>0</td>\n",
       "      <td>b''</td>\n",
       "      <td>b''</td>\n",
       "    </tr>\n",
       "    <tr>\n",
       "      <th>0</th>\n",
       "      <td>4</td>\n",
       "      <td>5</td>\n",
       "      <td>0</td>\n",
       "      <td>41</td>\n",
       "      <td>21191</td>\n",
       "      <td>DF</td>\n",
       "      <td>0</td>\n",
       "      <td>128</td>\n",
       "      <td>6</td>\n",
       "      <td>0</td>\n",
       "      <td>...</td>\n",
       "      <td>5</td>\n",
       "      <td>0</td>\n",
       "      <td>PA</td>\n",
       "      <td>65535</td>\n",
       "      <td>6890</td>\n",
       "      <td>0</td>\n",
       "      <td>0</td>\n",
       "      <td>1</td>\n",
       "      <td>b'M'</td>\n",
       "      <td>b'4d'</td>\n",
       "    </tr>\n",
       "  </tbody>\n",
       "</table>\n",
       "<p>5 rows × 28 columns</p>\n",
       "</div>"
      ],
      "text/plain": [
       "  version ihl tos  len     id flags frag  ttl proto chksum  ... dataofs  \\\n",
       "0       4   5   0  656  21187    DF    0  128     6      0  ...       5   \n",
       "0       4   5   0   40  21188    DF    0  128     6      0  ...       5   \n",
       "0       4   5   0   41  21189    DF    0  128     6      0  ...       5   \n",
       "0       4   5   0   40  21190    DF    0  128     6      0  ...       5   \n",
       "0       4   5   0   41  21191    DF    0  128     6      0  ...       5   \n",
       "\n",
       "  reserved flags window chksum urgptr options payload  \\\n",
       "0        0    PA   8308  43888      0       0     616   \n",
       "0        0     A   8244  44183      0    None       0   \n",
       "0        0    PA  65535   6891      0       0       1   \n",
       "0        0     A  47481  44665      0    None       0   \n",
       "0        0    PA  65535   6890      0       0       1   \n",
       "\n",
       "                                         payload_raw  \\\n",
       "0  b'\\x81~\\x02d{\"header\": {\"msg_id\": \"2ac8fb38-7a...   \n",
       "0                                                b''   \n",
       "0                                               b'M'   \n",
       "0                                                b''   \n",
       "0                                               b'M'   \n",
       "\n",
       "                                         payload_hex  \n",
       "0  b'817e02647b22686561646572223a207b226d73675f69...  \n",
       "0                                                b''  \n",
       "0                                              b'4d'  \n",
       "0                                                b''  \n",
       "0                                              b'4d'  \n",
       "\n",
       "[5 rows x 28 columns]"
      ]
     },
     "execution_count": 139,
     "metadata": {},
     "output_type": "execute_result"
    }
   ],
   "source": [
    "df_new = df[df['src'] == in_a]\n",
    "df_new.head()"
   ]
  },
  {
   "cell_type": "markdown",
   "id": "08a53bec",
   "metadata": {},
   "source": [
    "##### b. Obtenga un nuevo DF con las columnas Src Address, Dst Address y agrúpelas por payload\n"
   ]
  },
  {
   "cell_type": "code",
   "execution_count": 143,
   "id": "b1dc7e54",
   "metadata": {},
   "outputs": [
    {
     "data": {
      "text/html": [
       "<div>\n",
       "<style scoped>\n",
       "    .dataframe tbody tr th:only-of-type {\n",
       "        vertical-align: middle;\n",
       "    }\n",
       "\n",
       "    .dataframe tbody tr th {\n",
       "        vertical-align: top;\n",
       "    }\n",
       "\n",
       "    .dataframe thead th {\n",
       "        text-align: right;\n",
       "    }\n",
       "</style>\n",
       "<table border=\"1\" class=\"dataframe\">\n",
       "  <thead>\n",
       "    <tr style=\"text-align: right;\">\n",
       "      <th></th>\n",
       "      <th>src</th>\n",
       "      <th>dst</th>\n",
       "      <th>payload</th>\n",
       "    </tr>\n",
       "  </thead>\n",
       "  <tbody>\n",
       "    <tr>\n",
       "      <th>0</th>\n",
       "      <td>127.0.0.1</td>\n",
       "      <td>127.0.0.1</td>\n",
       "      <td>616</td>\n",
       "    </tr>\n",
       "    <tr>\n",
       "      <th>0</th>\n",
       "      <td>127.0.0.1</td>\n",
       "      <td>127.0.0.1</td>\n",
       "      <td>0</td>\n",
       "    </tr>\n",
       "    <tr>\n",
       "      <th>0</th>\n",
       "      <td>127.0.0.1</td>\n",
       "      <td>127.0.0.1</td>\n",
       "      <td>1</td>\n",
       "    </tr>\n",
       "    <tr>\n",
       "      <th>0</th>\n",
       "      <td>127.0.0.1</td>\n",
       "      <td>127.0.0.1</td>\n",
       "      <td>0</td>\n",
       "    </tr>\n",
       "    <tr>\n",
       "      <th>0</th>\n",
       "      <td>127.0.0.1</td>\n",
       "      <td>127.0.0.1</td>\n",
       "      <td>1</td>\n",
       "    </tr>\n",
       "    <tr>\n",
       "      <th>0</th>\n",
       "      <td>127.0.0.1</td>\n",
       "      <td>127.0.0.1</td>\n",
       "      <td>0</td>\n",
       "    </tr>\n",
       "    <tr>\n",
       "      <th>0</th>\n",
       "      <td>127.0.0.1</td>\n",
       "      <td>127.0.0.1</td>\n",
       "      <td>675</td>\n",
       "    </tr>\n",
       "    <tr>\n",
       "      <th>0</th>\n",
       "      <td>127.0.0.1</td>\n",
       "      <td>127.0.0.1</td>\n",
       "      <td>0</td>\n",
       "    </tr>\n",
       "    <tr>\n",
       "      <th>0</th>\n",
       "      <td>127.0.0.1</td>\n",
       "      <td>127.0.0.1</td>\n",
       "      <td>1</td>\n",
       "    </tr>\n",
       "    <tr>\n",
       "      <th>0</th>\n",
       "      <td>127.0.0.1</td>\n",
       "      <td>127.0.0.1</td>\n",
       "      <td>0</td>\n",
       "    </tr>\n",
       "    <tr>\n",
       "      <th>0</th>\n",
       "      <td>127.0.0.1</td>\n",
       "      <td>127.0.0.1</td>\n",
       "      <td>1</td>\n",
       "    </tr>\n",
       "    <tr>\n",
       "      <th>0</th>\n",
       "      <td>127.0.0.1</td>\n",
       "      <td>127.0.0.1</td>\n",
       "      <td>1</td>\n",
       "    </tr>\n",
       "  </tbody>\n",
       "</table>\n",
       "</div>"
      ],
      "text/plain": [
       "         src        dst payload\n",
       "0  127.0.0.1  127.0.0.1     616\n",
       "0  127.0.0.1  127.0.0.1       0\n",
       "0  127.0.0.1  127.0.0.1       1\n",
       "0  127.0.0.1  127.0.0.1       0\n",
       "0  127.0.0.1  127.0.0.1       1\n",
       "0  127.0.0.1  127.0.0.1       0\n",
       "0  127.0.0.1  127.0.0.1     675\n",
       "0  127.0.0.1  127.0.0.1       0\n",
       "0  127.0.0.1  127.0.0.1       1\n",
       "0  127.0.0.1  127.0.0.1       0\n",
       "0  127.0.0.1  127.0.0.1       1\n",
       "0  127.0.0.1  127.0.0.1       1"
      ]
     },
     "execution_count": 143,
     "metadata": {},
     "output_type": "execute_result"
    }
   ],
   "source": [
    "df_payload = df_top .groupby(by = ['payload'])\n",
    "df_payload = df_payload[['src', 'dst', 'payload']]\n",
    "df_payload.head()"
   ]
  },
  {
   "cell_type": "markdown",
   "id": "6b22b27c",
   "metadata": {},
   "source": [
    "##### c. Obtenga la IP que más ha intercambiado bytes con la IP más frecuente. Esta IP es sospechosa por la cantidad de bytes intercambiados, entre todas las direcciones.\n"
   ]
  },
  {
   "cell_type": "code",
   "execution_count": 144,
   "id": "8e0073d6",
   "metadata": {},
   "outputs": [
    {
     "data": {
      "text/plain": [
       "array(['127.0.0.1'], dtype=object)"
      ]
     },
     "execution_count": 144,
     "metadata": {},
     "output_type": "execute_result"
    }
   ],
   "source": [
    "bytes_exchange = df_top['dst'].unique()\n",
    "bytes_exchange\n"
   ]
  },
  {
   "cell_type": "code",
   "execution_count": 145,
   "id": "d654c6cb",
   "metadata": {},
   "outputs": [
    {
     "data": {
      "text/plain": [
       "127.0.0.1    100\n",
       "Name: dst, dtype: int64"
      ]
     },
     "execution_count": 145,
     "metadata": {},
     "output_type": "execute_result"
    }
   ],
   "source": [
    "df_top['dst'].value_counts()"
   ]
  },
  {
   "cell_type": "markdown",
   "id": "487f1863",
   "metadata": {},
   "source": [
    "##### d. Cree un nuevo DF con la conversación entre la IP más frecuenta y la IP sospechosa."
   ]
  },
  {
   "cell_type": "code",
   "execution_count": 147,
   "id": "e47480c9",
   "metadata": {},
   "outputs": [
    {
     "data": {
      "text/html": [
       "<div>\n",
       "<style scoped>\n",
       "    .dataframe tbody tr th:only-of-type {\n",
       "        vertical-align: middle;\n",
       "    }\n",
       "\n",
       "    .dataframe tbody tr th {\n",
       "        vertical-align: top;\n",
       "    }\n",
       "\n",
       "    .dataframe thead th {\n",
       "        text-align: right;\n",
       "    }\n",
       "</style>\n",
       "<table border=\"1\" class=\"dataframe\">\n",
       "  <thead>\n",
       "    <tr style=\"text-align: right;\">\n",
       "      <th></th>\n",
       "      <th>version</th>\n",
       "      <th>ihl</th>\n",
       "      <th>tos</th>\n",
       "      <th>len</th>\n",
       "      <th>id</th>\n",
       "      <th>flags</th>\n",
       "      <th>frag</th>\n",
       "      <th>ttl</th>\n",
       "      <th>proto</th>\n",
       "      <th>chksum</th>\n",
       "      <th>...</th>\n",
       "      <th>dataofs</th>\n",
       "      <th>reserved</th>\n",
       "      <th>flags</th>\n",
       "      <th>window</th>\n",
       "      <th>chksum</th>\n",
       "      <th>urgptr</th>\n",
       "      <th>options</th>\n",
       "      <th>payload</th>\n",
       "      <th>payload_raw</th>\n",
       "      <th>payload_hex</th>\n",
       "    </tr>\n",
       "  </thead>\n",
       "  <tbody>\n",
       "    <tr>\n",
       "      <th>0</th>\n",
       "      <td>4</td>\n",
       "      <td>5</td>\n",
       "      <td>0</td>\n",
       "      <td>656</td>\n",
       "      <td>21187</td>\n",
       "      <td>DF</td>\n",
       "      <td>0</td>\n",
       "      <td>128</td>\n",
       "      <td>6</td>\n",
       "      <td>0</td>\n",
       "      <td>...</td>\n",
       "      <td>5</td>\n",
       "      <td>0</td>\n",
       "      <td>PA</td>\n",
       "      <td>8308</td>\n",
       "      <td>43888</td>\n",
       "      <td>0</td>\n",
       "      <td>0</td>\n",
       "      <td>616</td>\n",
       "      <td>b'\\x81~\\x02d{\"header\": {\"msg_id\": \"2ac8fb38-7a...</td>\n",
       "      <td>b'817e02647b22686561646572223a207b226d73675f69...</td>\n",
       "    </tr>\n",
       "    <tr>\n",
       "      <th>0</th>\n",
       "      <td>4</td>\n",
       "      <td>5</td>\n",
       "      <td>0</td>\n",
       "      <td>40</td>\n",
       "      <td>21188</td>\n",
       "      <td>DF</td>\n",
       "      <td>0</td>\n",
       "      <td>128</td>\n",
       "      <td>6</td>\n",
       "      <td>0</td>\n",
       "      <td>...</td>\n",
       "      <td>5</td>\n",
       "      <td>0</td>\n",
       "      <td>A</td>\n",
       "      <td>8244</td>\n",
       "      <td>44183</td>\n",
       "      <td>0</td>\n",
       "      <td>None</td>\n",
       "      <td>0</td>\n",
       "      <td>b''</td>\n",
       "      <td>b''</td>\n",
       "    </tr>\n",
       "    <tr>\n",
       "      <th>0</th>\n",
       "      <td>4</td>\n",
       "      <td>5</td>\n",
       "      <td>0</td>\n",
       "      <td>41</td>\n",
       "      <td>21189</td>\n",
       "      <td>DF</td>\n",
       "      <td>0</td>\n",
       "      <td>128</td>\n",
       "      <td>6</td>\n",
       "      <td>0</td>\n",
       "      <td>...</td>\n",
       "      <td>5</td>\n",
       "      <td>0</td>\n",
       "      <td>PA</td>\n",
       "      <td>65535</td>\n",
       "      <td>6891</td>\n",
       "      <td>0</td>\n",
       "      <td>0</td>\n",
       "      <td>1</td>\n",
       "      <td>b'M'</td>\n",
       "      <td>b'4d'</td>\n",
       "    </tr>\n",
       "    <tr>\n",
       "      <th>0</th>\n",
       "      <td>4</td>\n",
       "      <td>5</td>\n",
       "      <td>0</td>\n",
       "      <td>40</td>\n",
       "      <td>21190</td>\n",
       "      <td>DF</td>\n",
       "      <td>0</td>\n",
       "      <td>128</td>\n",
       "      <td>6</td>\n",
       "      <td>0</td>\n",
       "      <td>...</td>\n",
       "      <td>5</td>\n",
       "      <td>0</td>\n",
       "      <td>A</td>\n",
       "      <td>47481</td>\n",
       "      <td>44665</td>\n",
       "      <td>0</td>\n",
       "      <td>None</td>\n",
       "      <td>0</td>\n",
       "      <td>b''</td>\n",
       "      <td>b''</td>\n",
       "    </tr>\n",
       "    <tr>\n",
       "      <th>0</th>\n",
       "      <td>4</td>\n",
       "      <td>5</td>\n",
       "      <td>0</td>\n",
       "      <td>41</td>\n",
       "      <td>21191</td>\n",
       "      <td>DF</td>\n",
       "      <td>0</td>\n",
       "      <td>128</td>\n",
       "      <td>6</td>\n",
       "      <td>0</td>\n",
       "      <td>...</td>\n",
       "      <td>5</td>\n",
       "      <td>0</td>\n",
       "      <td>PA</td>\n",
       "      <td>65535</td>\n",
       "      <td>6890</td>\n",
       "      <td>0</td>\n",
       "      <td>0</td>\n",
       "      <td>1</td>\n",
       "      <td>b'M'</td>\n",
       "      <td>b'4d'</td>\n",
       "    </tr>\n",
       "    <tr>\n",
       "      <th>...</th>\n",
       "      <td>...</td>\n",
       "      <td>...</td>\n",
       "      <td>...</td>\n",
       "      <td>...</td>\n",
       "      <td>...</td>\n",
       "      <td>...</td>\n",
       "      <td>...</td>\n",
       "      <td>...</td>\n",
       "      <td>...</td>\n",
       "      <td>...</td>\n",
       "      <td>...</td>\n",
       "      <td>...</td>\n",
       "      <td>...</td>\n",
       "      <td>...</td>\n",
       "      <td>...</td>\n",
       "      <td>...</td>\n",
       "      <td>...</td>\n",
       "      <td>...</td>\n",
       "      <td>...</td>\n",
       "      <td>...</td>\n",
       "      <td>...</td>\n",
       "    </tr>\n",
       "    <tr>\n",
       "      <th>0</th>\n",
       "      <td>4</td>\n",
       "      <td>5</td>\n",
       "      <td>0</td>\n",
       "      <td>40</td>\n",
       "      <td>21282</td>\n",
       "      <td>DF</td>\n",
       "      <td>0</td>\n",
       "      <td>128</td>\n",
       "      <td>6</td>\n",
       "      <td>0</td>\n",
       "      <td>...</td>\n",
       "      <td>5</td>\n",
       "      <td>0</td>\n",
       "      <td>A</td>\n",
       "      <td>55213</td>\n",
       "      <td>27788</td>\n",
       "      <td>0</td>\n",
       "      <td>None</td>\n",
       "      <td>0</td>\n",
       "      <td>b''</td>\n",
       "      <td>b''</td>\n",
       "    </tr>\n",
       "    <tr>\n",
       "      <th>0</th>\n",
       "      <td>4</td>\n",
       "      <td>5</td>\n",
       "      <td>0</td>\n",
       "      <td>41</td>\n",
       "      <td>21283</td>\n",
       "      <td>DF</td>\n",
       "      <td>0</td>\n",
       "      <td>128</td>\n",
       "      <td>6</td>\n",
       "      <td>0</td>\n",
       "      <td>...</td>\n",
       "      <td>5</td>\n",
       "      <td>0</td>\n",
       "      <td>PA</td>\n",
       "      <td>65535</td>\n",
       "      <td>63280</td>\n",
       "      <td>0</td>\n",
       "      <td>0</td>\n",
       "      <td>1</td>\n",
       "      <td>b'M'</td>\n",
       "      <td>b'4d'</td>\n",
       "    </tr>\n",
       "    <tr>\n",
       "      <th>0</th>\n",
       "      <td>4</td>\n",
       "      <td>5</td>\n",
       "      <td>0</td>\n",
       "      <td>40</td>\n",
       "      <td>21284</td>\n",
       "      <td>DF</td>\n",
       "      <td>0</td>\n",
       "      <td>128</td>\n",
       "      <td>6</td>\n",
       "      <td>0</td>\n",
       "      <td>...</td>\n",
       "      <td>5</td>\n",
       "      <td>0</td>\n",
       "      <td>A</td>\n",
       "      <td>55212</td>\n",
       "      <td>27788</td>\n",
       "      <td>0</td>\n",
       "      <td>None</td>\n",
       "      <td>0</td>\n",
       "      <td>b''</td>\n",
       "      <td>b''</td>\n",
       "    </tr>\n",
       "    <tr>\n",
       "      <th>0</th>\n",
       "      <td>4</td>\n",
       "      <td>5</td>\n",
       "      <td>0</td>\n",
       "      <td>41</td>\n",
       "      <td>21285</td>\n",
       "      <td>DF</td>\n",
       "      <td>0</td>\n",
       "      <td>128</td>\n",
       "      <td>6</td>\n",
       "      <td>0</td>\n",
       "      <td>...</td>\n",
       "      <td>5</td>\n",
       "      <td>0</td>\n",
       "      <td>PA</td>\n",
       "      <td>65535</td>\n",
       "      <td>63279</td>\n",
       "      <td>0</td>\n",
       "      <td>0</td>\n",
       "      <td>1</td>\n",
       "      <td>b'M'</td>\n",
       "      <td>b'4d'</td>\n",
       "    </tr>\n",
       "    <tr>\n",
       "      <th>0</th>\n",
       "      <td>4</td>\n",
       "      <td>5</td>\n",
       "      <td>0</td>\n",
       "      <td>40</td>\n",
       "      <td>21286</td>\n",
       "      <td>DF</td>\n",
       "      <td>0</td>\n",
       "      <td>128</td>\n",
       "      <td>6</td>\n",
       "      <td>0</td>\n",
       "      <td>...</td>\n",
       "      <td>5</td>\n",
       "      <td>0</td>\n",
       "      <td>A</td>\n",
       "      <td>55211</td>\n",
       "      <td>27788</td>\n",
       "      <td>0</td>\n",
       "      <td>None</td>\n",
       "      <td>0</td>\n",
       "      <td>b''</td>\n",
       "      <td>b''</td>\n",
       "    </tr>\n",
       "  </tbody>\n",
       "</table>\n",
       "<p>100 rows × 28 columns</p>\n",
       "</div>"
      ],
      "text/plain": [
       "   version ihl tos  len     id flags frag  ttl proto chksum  ... dataofs  \\\n",
       "0        4   5   0  656  21187    DF    0  128     6      0  ...       5   \n",
       "0        4   5   0   40  21188    DF    0  128     6      0  ...       5   \n",
       "0        4   5   0   41  21189    DF    0  128     6      0  ...       5   \n",
       "0        4   5   0   40  21190    DF    0  128     6      0  ...       5   \n",
       "0        4   5   0   41  21191    DF    0  128     6      0  ...       5   \n",
       "..     ...  ..  ..  ...    ...   ...  ...  ...   ...    ...  ...     ...   \n",
       "0        4   5   0   40  21282    DF    0  128     6      0  ...       5   \n",
       "0        4   5   0   41  21283    DF    0  128     6      0  ...       5   \n",
       "0        4   5   0   40  21284    DF    0  128     6      0  ...       5   \n",
       "0        4   5   0   41  21285    DF    0  128     6      0  ...       5   \n",
       "0        4   5   0   40  21286    DF    0  128     6      0  ...       5   \n",
       "\n",
       "   reserved flags window chksum urgptr options payload  \\\n",
       "0         0    PA   8308  43888      0       0     616   \n",
       "0         0     A   8244  44183      0    None       0   \n",
       "0         0    PA  65535   6891      0       0       1   \n",
       "0         0     A  47481  44665      0    None       0   \n",
       "0         0    PA  65535   6890      0       0       1   \n",
       "..      ...   ...    ...    ...    ...     ...     ...   \n",
       "0         0     A  55213  27788      0    None       0   \n",
       "0         0    PA  65535  63280      0       0       1   \n",
       "0         0     A  55212  27788      0    None       0   \n",
       "0         0    PA  65535  63279      0       0       1   \n",
       "0         0     A  55211  27788      0    None       0   \n",
       "\n",
       "                                          payload_raw  \\\n",
       "0   b'\\x81~\\x02d{\"header\": {\"msg_id\": \"2ac8fb38-7a...   \n",
       "0                                                 b''   \n",
       "0                                                b'M'   \n",
       "0                                                 b''   \n",
       "0                                                b'M'   \n",
       "..                                                ...   \n",
       "0                                                 b''   \n",
       "0                                                b'M'   \n",
       "0                                                 b''   \n",
       "0                                                b'M'   \n",
       "0                                                 b''   \n",
       "\n",
       "                                          payload_hex  \n",
       "0   b'817e02647b22686561646572223a207b226d73675f69...  \n",
       "0                                                 b''  \n",
       "0                                               b'4d'  \n",
       "0                                                 b''  \n",
       "0                                               b'4d'  \n",
       "..                                                ...  \n",
       "0                                                 b''  \n",
       "0                                               b'4d'  \n",
       "0                                                 b''  \n",
       "0                                               b'4d'  \n",
       "0                                                 b''  \n",
       "\n",
       "[100 rows x 28 columns]"
      ]
     },
     "execution_count": 147,
     "metadata": {},
     "output_type": "execute_result"
    }
   ],
   "source": [
    "df_bytes_exchange = df[(df['src'] == in_a) & (df['dst'] == bytes_exchange[0])]\n",
    "df_bytes_exchange"
   ]
  },
  {
   "cell_type": "markdown",
   "id": "910a0349",
   "metadata": {},
   "source": [
    "##### e. Obtenga los payloads del DF del inciso 6, y añada cada uno en un array."
   ]
  },
  {
   "cell_type": "code",
   "execution_count": 149,
   "id": "f7702e2c",
   "metadata": {},
   "outputs": [],
   "source": [
    "array_bytes_exchange = df_bytes_exchange['payload_raw'].to_numpy()"
   ]
  },
  {
   "cell_type": "markdown",
   "id": "93575439",
   "metadata": {},
   "source": [
    "##### f. Muestre el contenido del array."
   ]
  },
  {
   "cell_type": "code",
   "execution_count": 150,
   "id": "c506a9d4",
   "metadata": {},
   "outputs": [
    {
     "data": {
      "text/plain": [
       "array([b'\\x81~\\x02d{\"header\": {\"msg_id\": \"2ac8fb38-7a02a99833028bb5635b06e6_8800_600\", \"msg_type\": \"status\", \"username\": \"username\", \"session\": \"2ac8fb38-7a02a99833028bb5635b06e6\", \"date\": \"2022-04-17T23:07:53.923305Z\", \"version\": \"5.3\"}, \"msg_id\": \"2ac8fb38-7a02a99833028bb5635b06e6_8800_600\", \"msg_type\": \"status\", \"parent_header\": {\"date\": \"2022-04-17T23:07:53.923000Z\", \"msg_id\": \"387775621f4749db86c91f9692a0e7f5\", \"username\": \"username\", \"session\": \"73aa5894c5af4bf8aa66b184bfccc4b0\", \"msg_type\": \"execute_request\", \"version\": \"5.2\"}, \"metadata\": {}, \"content\": {\"execution_state\": \"busy\"}, \"buffers\": [], \"channel\": \"iopub\"}',\n",
       "       b'', b'M', b'', b'M', b'',\n",
       "       b'\\x81~\\x02\\x9f{\"header\": {\"msg_id\": \"2ac8fb38-7a02a99833028bb5635b06e6_8800_601\", \"msg_type\": \"execute_input\", \"username\": \"username\", \"session\": \"2ac8fb38-7a02a99833028bb5635b06e6\", \"date\": \"2022-04-17T23:07:53.924289Z\", \"version\": \"5.3\"}, \"msg_id\": \"2ac8fb38-7a02a99833028bb5635b06e6_8800_601\", \"msg_type\": \"execute_input\", \"parent_header\": {\"date\": \"2022-04-17T23:07:53.923000Z\", \"msg_id\": \"387775621f4749db86c91f9692a0e7f5\", \"username\": \"username\", \"session\": \"73aa5894c5af4bf8aa66b184bfccc4b0\", \"msg_type\": \"execute_request\", \"version\": \"5.2\"}, \"metadata\": {}, \"content\": {\"code\": \"own_packets_pcap = sniff(count = 100)\", \"execution_count\": 54}, \"buffers\": [], \"channel\": \"iopub\"}',\n",
       "       b'', b'M', b'', b'M', b'', b'M', b'', b'M', b'', b'M', b'', b'M',\n",
       "       b'', b'M', b'', b'M', b'', b'M', b'', b'M', b'M', b'', b'', b'M',\n",
       "       b'', b'M', b'', b'M', b'', b'M', b'', b'M', b'', b'M', b'', b'M',\n",
       "       b'', b'M', b'', b'M', b'', b'M', b'', b'M', b'', b'M', b'', b'M',\n",
       "       b'', b'M', b'', b'M', b'', b'M', b'', b'M', b'', b'M', b'', b'M',\n",
       "       b'', b'M', b'', b'M', b'', b'M', b'', b'M', b'', b'M', b'', b'M',\n",
       "       b'', b'M', b'', b'M', b'', b'M', b'', b'M', b'', b'M', b'', b'M',\n",
       "       b'', b'M', b'', b'M', b'', b'M', b'', b'M', b''], dtype=object)"
      ]
     },
     "execution_count": 150,
     "metadata": {},
     "output_type": "execute_result"
    }
   ],
   "source": [
    "array_bytes_exchange"
   ]
  },
  {
   "cell_type": "markdown",
   "id": "60eb4dbb",
   "metadata": {},
   "source": [
    "##### g. Examine los primeros bytes del contenido, ¿encuentra algún dato que no haga sentido que se envie a través del puerto explicado en el inciso f?"
   ]
  },
  {
   "cell_type": "code",
   "execution_count": 151,
   "id": "dd9fb24b",
   "metadata": {},
   "outputs": [
    {
     "data": {
      "text/html": [
       "<div>\n",
       "<style scoped>\n",
       "    .dataframe tbody tr th:only-of-type {\n",
       "        vertical-align: middle;\n",
       "    }\n",
       "\n",
       "    .dataframe tbody tr th {\n",
       "        vertical-align: top;\n",
       "    }\n",
       "\n",
       "    .dataframe thead th {\n",
       "        text-align: right;\n",
       "    }\n",
       "</style>\n",
       "<table border=\"1\" class=\"dataframe\">\n",
       "  <thead>\n",
       "    <tr style=\"text-align: right;\">\n",
       "      <th></th>\n",
       "      <th>payload</th>\n",
       "      <th>payload_raw</th>\n",
       "      <th>src</th>\n",
       "      <th>sport</th>\n",
       "      <th>dst</th>\n",
       "      <th>dport</th>\n",
       "    </tr>\n",
       "  </thead>\n",
       "  <tbody>\n",
       "    <tr>\n",
       "      <th>0</th>\n",
       "      <td>616</td>\n",
       "      <td>b'\\x81~\\x02d{\"header\": {\"msg_id\": \"2ac8fb38-7a...</td>\n",
       "      <td>127.0.0.1</td>\n",
       "      <td>8888</td>\n",
       "      <td>127.0.0.1</td>\n",
       "      <td>62889</td>\n",
       "    </tr>\n",
       "    <tr>\n",
       "      <th>0</th>\n",
       "      <td>0</td>\n",
       "      <td>b''</td>\n",
       "      <td>127.0.0.1</td>\n",
       "      <td>62889</td>\n",
       "      <td>127.0.0.1</td>\n",
       "      <td>8888</td>\n",
       "    </tr>\n",
       "    <tr>\n",
       "      <th>0</th>\n",
       "      <td>1</td>\n",
       "      <td>b'M'</td>\n",
       "      <td>127.0.0.1</td>\n",
       "      <td>50244</td>\n",
       "      <td>127.0.0.1</td>\n",
       "      <td>50243</td>\n",
       "    </tr>\n",
       "    <tr>\n",
       "      <th>0</th>\n",
       "      <td>0</td>\n",
       "      <td>b''</td>\n",
       "      <td>127.0.0.1</td>\n",
       "      <td>50243</td>\n",
       "      <td>127.0.0.1</td>\n",
       "      <td>50244</td>\n",
       "    </tr>\n",
       "    <tr>\n",
       "      <th>0</th>\n",
       "      <td>1</td>\n",
       "      <td>b'M'</td>\n",
       "      <td>127.0.0.1</td>\n",
       "      <td>50244</td>\n",
       "      <td>127.0.0.1</td>\n",
       "      <td>50243</td>\n",
       "    </tr>\n",
       "    <tr>\n",
       "      <th>...</th>\n",
       "      <td>...</td>\n",
       "      <td>...</td>\n",
       "      <td>...</td>\n",
       "      <td>...</td>\n",
       "      <td>...</td>\n",
       "      <td>...</td>\n",
       "    </tr>\n",
       "    <tr>\n",
       "      <th>0</th>\n",
       "      <td>0</td>\n",
       "      <td>b''</td>\n",
       "      <td>127.0.0.1</td>\n",
       "      <td>62740</td>\n",
       "      <td>127.0.0.1</td>\n",
       "      <td>62741</td>\n",
       "    </tr>\n",
       "    <tr>\n",
       "      <th>0</th>\n",
       "      <td>1</td>\n",
       "      <td>b'M'</td>\n",
       "      <td>127.0.0.1</td>\n",
       "      <td>62741</td>\n",
       "      <td>127.0.0.1</td>\n",
       "      <td>62740</td>\n",
       "    </tr>\n",
       "    <tr>\n",
       "      <th>0</th>\n",
       "      <td>0</td>\n",
       "      <td>b''</td>\n",
       "      <td>127.0.0.1</td>\n",
       "      <td>62740</td>\n",
       "      <td>127.0.0.1</td>\n",
       "      <td>62741</td>\n",
       "    </tr>\n",
       "    <tr>\n",
       "      <th>0</th>\n",
       "      <td>1</td>\n",
       "      <td>b'M'</td>\n",
       "      <td>127.0.0.1</td>\n",
       "      <td>62741</td>\n",
       "      <td>127.0.0.1</td>\n",
       "      <td>62740</td>\n",
       "    </tr>\n",
       "    <tr>\n",
       "      <th>0</th>\n",
       "      <td>0</td>\n",
       "      <td>b''</td>\n",
       "      <td>127.0.0.1</td>\n",
       "      <td>62740</td>\n",
       "      <td>127.0.0.1</td>\n",
       "      <td>62741</td>\n",
       "    </tr>\n",
       "  </tbody>\n",
       "</table>\n",
       "<p>100 rows × 6 columns</p>\n",
       "</div>"
      ],
      "text/plain": [
       "   payload                                        payload_raw        src  \\\n",
       "0      616  b'\\x81~\\x02d{\"header\": {\"msg_id\": \"2ac8fb38-7a...  127.0.0.1   \n",
       "0        0                                                b''  127.0.0.1   \n",
       "0        1                                               b'M'  127.0.0.1   \n",
       "0        0                                                b''  127.0.0.1   \n",
       "0        1                                               b'M'  127.0.0.1   \n",
       "..     ...                                                ...        ...   \n",
       "0        0                                                b''  127.0.0.1   \n",
       "0        1                                               b'M'  127.0.0.1   \n",
       "0        0                                                b''  127.0.0.1   \n",
       "0        1                                               b'M'  127.0.0.1   \n",
       "0        0                                                b''  127.0.0.1   \n",
       "\n",
       "    sport        dst  dport  \n",
       "0    8888  127.0.0.1  62889  \n",
       "0   62889  127.0.0.1   8888  \n",
       "0   50244  127.0.0.1  50243  \n",
       "0   50243  127.0.0.1  50244  \n",
       "0   50244  127.0.0.1  50243  \n",
       "..    ...        ...    ...  \n",
       "0   62740  127.0.0.1  62741  \n",
       "0   62741  127.0.0.1  62740  \n",
       "0   62740  127.0.0.1  62741  \n",
       "0   62741  127.0.0.1  62740  \n",
       "0   62740  127.0.0.1  62741  \n",
       "\n",
       "[100 rows x 6 columns]"
      ]
     },
     "execution_count": 151,
     "metadata": {},
     "output_type": "execute_result"
    }
   ],
   "source": [
    "df_bytes_exchange[['payload', 'payload_raw', 'src', 'sport', 'dst', 'dport']]"
   ]
  }
 ],
 "metadata": {
  "kernelspec": {
   "display_name": "Python 3 (ipykernel)",
   "language": "python",
   "name": "python3"
  },
  "language_info": {
   "codemirror_mode": {
    "name": "ipython",
    "version": 3
   },
   "file_extension": ".py",
   "mimetype": "text/x-python",
   "name": "python",
   "nbconvert_exporter": "python",
   "pygments_lexer": "ipython3",
   "version": "3.9.10"
  }
 },
 "nbformat": 4,
 "nbformat_minor": 5
}
